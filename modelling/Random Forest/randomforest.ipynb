{
 "cells": [
  {
   "cell_type": "markdown",
   "id": "f7835d1c",
   "metadata": {},
   "source": [
    "# Modelling Dataset with Random Forest Classifier"
   ]
  },
  {
   "cell_type": "markdown",
   "id": "2fb39234",
   "metadata": {},
   "source": [
    "## Import Libraries"
   ]
  },
  {
   "cell_type": "code",
   "execution_count": 40,
   "id": "2110dfa8",
   "metadata": {},
   "outputs": [],
   "source": [
    "import pandas as pd\n",
    "from sklearn.feature_selection import mutual_info_classif\n",
    "from sklearn.model_selection import train_test_split\n",
    "from sklearn.ensemble import RandomForestClassifier\n",
    "from sklearn.tree import DecisionTreeClassifier\n",
    "import xgboost as xgb\n",
    "from sklearn.preprocessing import LabelEncoder, StandardScaler\n",
    "from sklearn.metrics import classification_report, confusion_matrix, accuracy_score\n",
    "import seaborn as sns\n",
    "import matplotlib.pyplot as plt\n",
    "import joblib"
   ]
  },
  {
   "cell_type": "markdown",
   "id": "e7fab72d",
   "metadata": {},
   "source": [
    "## Data Loading"
   ]
  },
  {
   "cell_type": "markdown",
   "id": "16434e3d",
   "metadata": {},
   "source": [
    "**Read Dataset**"
   ]
  },
  {
   "cell_type": "code",
   "execution_count": null,
   "id": "c4ddd5e5",
   "metadata": {},
   "outputs": [],
   "source": [
    "df = pd.read_csv('health_dataset.csv')\n",
    "X = df.drop(columns=['Stress_level'])\n",
    "y = df['Stress_level']"
   ]
  },
  {
   "cell_type": "markdown",
   "id": "d1e6591b",
   "metadata": {},
   "source": [
    "## Explarotary Data"
   ]
  },
  {
   "cell_type": "markdown",
   "id": "0f7b2ae7",
   "metadata": {},
   "source": [
    "**Check Columns Correlation**"
   ]
  },
  {
   "cell_type": "code",
   "execution_count": 11,
   "id": "39929f87",
   "metadata": {},
   "outputs": [
    {
     "name": "stdout",
     "output_type": "stream",
     "text": [
      "Mental_health_state           0.213799\n",
      "Gen_health_state              0.188130\n",
      "Pain_status                   0.113329\n",
      "Sense_belonging               0.099617\n",
      "Gender                        0.063026\n",
      "Food_security                 0.056955\n",
      "Health_region_ grouped        0.056507\n",
      "Province                      0.056431\n",
      "Total_income                  0.053050\n",
      "High_BP                       0.051224\n",
      "Cardiovascular_con            0.049663\n",
      "Household                     0.048720\n",
      "Edu_level                     0.048247\n",
      "Respiratory_chronic_con       0.046219\n",
      "Musculoskeletal_con           0.042428\n",
      "Diabetic                      0.040278\n",
      "Insurance_cover               0.020803\n",
      "BMI_12_17                     0.019714\n",
      "Fruit_veg_con                 0.019651\n",
      "Health_utility_indx           0.019321\n",
      "Act_improve_health            0.016839\n",
      "Cannabies_use                 0.015307\n",
      "Aboriginal_identity           0.010009\n",
      "BMI_18_above                  0.009204\n",
      "Physical_vigorous_act_time    0.008916\n",
      "Other_physical_act_time       0.008911\n",
      "Immigrant                     0.008497\n",
      "Total_physical_act_time       0.007477\n",
      "Total_active_time             0.006851\n",
      "ADM_RNO1                      0.003840\n",
      "Life_satisfaction             0.003657\n",
      "Birth_country                 0.001926\n",
      "High_cholestrol              -0.004965\n",
      "Income_source                -0.006142\n",
      "Drug_use                     -0.007106\n",
      "Tobaco_use                   -0.007361\n",
      "Weight_state                 -0.011906\n",
      "Fatigue_syndrome             -0.014295\n",
      "Marital_status               -0.018031\n",
      "Sleep_apnea                  -0.023533\n",
      "weekly_alcohol               -0.054214\n",
      "Smoked                       -0.079522\n",
      "Work_stress                  -0.096595\n",
      "Mood_disorder                -0.133714\n",
      "Anxiety_disorder             -0.134082\n",
      "Age                          -0.187627\n",
      "Work_hours                   -0.221187\n",
      "working_status               -0.231768\n",
      "Worked_job_business          -0.257154\n",
      "Name: Stress_level, dtype: float64\n"
     ]
    }
   ],
   "source": [
    "# Combine X and y for correlation calculation\n",
    "df_numeric = pd.concat([X, y], axis=1)\n",
    "\n",
    "# Compute correlation of numeric features with Stress_level\n",
    "correlation_with_stress = df_numeric.corr(numeric_only=True)['Stress_level'].drop('Stress_level')\n",
    "\n",
    "# Optional: sort by correlation strength\n",
    "correlation_with_stress = correlation_with_stress.sort_values(ascending=False)\n",
    "\n",
    "# Show the result\n",
    "print(correlation_with_stress)"
   ]
  },
  {
   "cell_type": "markdown",
   "id": "bd84de10",
   "metadata": {},
   "source": [
    "**Check Column mutual information to Target Column**"
   ]
  },
  {
   "cell_type": "code",
   "execution_count": 12,
   "id": "9262ef65",
   "metadata": {},
   "outputs": [
    {
     "data": {
      "application/vnd.microsoft.datawrangler.viewer.v0+json": {
       "columns": [
        {
         "name": "index",
         "rawType": "int64",
         "type": "integer"
        },
        {
         "name": "Feature",
         "rawType": "object",
         "type": "string"
        },
        {
         "name": "MI Score",
         "rawType": "float64",
         "type": "float"
        }
       ],
       "ref": "7790a1f6-a234-40d1-b59a-ce79439368c9",
       "rows": [
        [
         "12",
         "Work_stress",
         "0.12474997403208121"
        ],
        [
         "10",
         "Life_satisfaction",
         "0.07169274057035757"
        ],
        [
         "11",
         "Mental_health_state",
         "0.06610930576510565"
        ],
        [
         "6",
         "Age",
         "0.05120787381644831"
        ],
        [
         "7",
         "Worked_job_business",
         "0.050193509200792796"
        ],
        [
         "40",
         "Work_hours ",
         "0.04690066517474145"
        ],
        [
         "41",
         "working_status ",
         "0.044012034123391164"
        ],
        [
         "22",
         "Mood_disorder",
         "0.029279889176653473"
        ],
        [
         "47",
         "Income_source",
         "0.025909854804947674"
        ],
        [
         "23",
         "Anxiety_disorder",
         "0.024591472469362774"
        ],
        [
         "9",
         "Gen_health_state",
         "0.024398401029051886"
        ],
        [
         "13",
         "Sense_belonging",
         "0.021329991230952583"
        ],
        [
         "27",
         "Health_utility_indx",
         "0.019260223284136124"
        ],
        [
         "31",
         "Smoked",
         "0.01486565345845392"
        ],
        [
         "46",
         "Food_security",
         "0.013561843783985061"
        ],
        [
         "21",
         "Fatigue_syndrome",
         "0.01286782601941816"
        ],
        [
         "28",
         "Pain_status",
         "0.012289221765664493"
        ],
        [
         "34",
         "Cannabies_use",
         "0.011806703256877604"
        ],
        [
         "5",
         "Household",
         "0.01012766921556496"
        ],
        [
         "1",
         "Province",
         "0.009799425870333334"
        ],
        [
         "15",
         "BMI_12_17",
         "0.008490513780220255"
        ],
        [
         "2",
         "Health_region_ grouped",
         "0.008170468520850793"
        ],
        [
         "42",
         "Aboriginal_identity",
         "0.008085668415944713"
        ],
        [
         "8",
         "Edu_level",
         "0.007980644748968757"
        ],
        [
         "45",
         "Insurance_cover",
         "0.007900552398862892"
        ],
        [
         "37",
         "Total_physical_act_time",
         "0.007861451563157207"
        ],
        [
         "38",
         "Other_physical_act_time",
         "0.007326062779214659"
        ],
        [
         "30",
         "Fruit_veg_con",
         "0.0070192484702569224"
        ],
        [
         "26",
         "Cardiovascular_con",
         "0.006909416916168087"
        ],
        [
         "25",
         "Musculoskeletal_con",
         "0.006897898325909146"
        ],
        [
         "14",
         "Weight_state",
         "0.006718183910207731"
        ],
        [
         "39",
         "Physical_vigorous_act_time",
         "0.006306717430620612"
        ],
        [
         "24",
         "Respiratory_chronic_con",
         "0.0059226932151710265"
        ],
        [
         "33",
         "weekly_alcohol",
         "0.005922039535794621"
        ],
        [
         "3",
         "Gender",
         "0.005862436390810188"
        ],
        [
         "20",
         "Diabetic",
         "0.005593572118286705"
        ],
        [
         "43",
         "Birth_country",
         "0.005489584151578963"
        ],
        [
         "17",
         "Sleep_apnea",
         "0.005458619676585563"
        ],
        [
         "32",
         "Tobaco_use",
         "0.004795584735600489"
        ],
        [
         "36",
         "Total_active_time",
         "0.004695421873118999"
        ],
        [
         "18",
         "High_BP",
         "0.004664219819914273"
        ],
        [
         "19",
         "High_cholestrol",
         "0.004362534517484029"
        ],
        [
         "48",
         "Total_income",
         "0.004263313484138553"
        ],
        [
         "4",
         "Marital_status",
         "0.004171012600658663"
        ],
        [
         "44",
         "Immigrant",
         "0.003776403775162862"
        ],
        [
         "35",
         "Drug_use",
         "0.003720982916683546"
        ],
        [
         "29",
         "Act_improve_health",
         "0.003470564430230194"
        ],
        [
         "16",
         "BMI_18_above",
         "0.002862454747083021"
        ],
        [
         "0",
         "ADM_RNO1",
         "0.0016775150072594336"
        ]
       ],
       "shape": {
        "columns": 2,
        "rows": 49
       }
      },
      "text/html": [
       "<div>\n",
       "<style scoped>\n",
       "    .dataframe tbody tr th:only-of-type {\n",
       "        vertical-align: middle;\n",
       "    }\n",
       "\n",
       "    .dataframe tbody tr th {\n",
       "        vertical-align: top;\n",
       "    }\n",
       "\n",
       "    .dataframe thead th {\n",
       "        text-align: right;\n",
       "    }\n",
       "</style>\n",
       "<table border=\"1\" class=\"dataframe\">\n",
       "  <thead>\n",
       "    <tr style=\"text-align: right;\">\n",
       "      <th></th>\n",
       "      <th>Feature</th>\n",
       "      <th>MI Score</th>\n",
       "    </tr>\n",
       "  </thead>\n",
       "  <tbody>\n",
       "    <tr>\n",
       "      <th>12</th>\n",
       "      <td>Work_stress</td>\n",
       "      <td>0.124750</td>\n",
       "    </tr>\n",
       "    <tr>\n",
       "      <th>10</th>\n",
       "      <td>Life_satisfaction</td>\n",
       "      <td>0.071693</td>\n",
       "    </tr>\n",
       "    <tr>\n",
       "      <th>11</th>\n",
       "      <td>Mental_health_state</td>\n",
       "      <td>0.066109</td>\n",
       "    </tr>\n",
       "    <tr>\n",
       "      <th>6</th>\n",
       "      <td>Age</td>\n",
       "      <td>0.051208</td>\n",
       "    </tr>\n",
       "    <tr>\n",
       "      <th>7</th>\n",
       "      <td>Worked_job_business</td>\n",
       "      <td>0.050194</td>\n",
       "    </tr>\n",
       "    <tr>\n",
       "      <th>40</th>\n",
       "      <td>Work_hours</td>\n",
       "      <td>0.046901</td>\n",
       "    </tr>\n",
       "    <tr>\n",
       "      <th>41</th>\n",
       "      <td>working_status</td>\n",
       "      <td>0.044012</td>\n",
       "    </tr>\n",
       "    <tr>\n",
       "      <th>22</th>\n",
       "      <td>Mood_disorder</td>\n",
       "      <td>0.029280</td>\n",
       "    </tr>\n",
       "    <tr>\n",
       "      <th>47</th>\n",
       "      <td>Income_source</td>\n",
       "      <td>0.025910</td>\n",
       "    </tr>\n",
       "    <tr>\n",
       "      <th>23</th>\n",
       "      <td>Anxiety_disorder</td>\n",
       "      <td>0.024591</td>\n",
       "    </tr>\n",
       "    <tr>\n",
       "      <th>9</th>\n",
       "      <td>Gen_health_state</td>\n",
       "      <td>0.024398</td>\n",
       "    </tr>\n",
       "    <tr>\n",
       "      <th>13</th>\n",
       "      <td>Sense_belonging</td>\n",
       "      <td>0.021330</td>\n",
       "    </tr>\n",
       "    <tr>\n",
       "      <th>27</th>\n",
       "      <td>Health_utility_indx</td>\n",
       "      <td>0.019260</td>\n",
       "    </tr>\n",
       "    <tr>\n",
       "      <th>31</th>\n",
       "      <td>Smoked</td>\n",
       "      <td>0.014866</td>\n",
       "    </tr>\n",
       "    <tr>\n",
       "      <th>46</th>\n",
       "      <td>Food_security</td>\n",
       "      <td>0.013562</td>\n",
       "    </tr>\n",
       "    <tr>\n",
       "      <th>21</th>\n",
       "      <td>Fatigue_syndrome</td>\n",
       "      <td>0.012868</td>\n",
       "    </tr>\n",
       "    <tr>\n",
       "      <th>28</th>\n",
       "      <td>Pain_status</td>\n",
       "      <td>0.012289</td>\n",
       "    </tr>\n",
       "    <tr>\n",
       "      <th>34</th>\n",
       "      <td>Cannabies_use</td>\n",
       "      <td>0.011807</td>\n",
       "    </tr>\n",
       "    <tr>\n",
       "      <th>5</th>\n",
       "      <td>Household</td>\n",
       "      <td>0.010128</td>\n",
       "    </tr>\n",
       "    <tr>\n",
       "      <th>1</th>\n",
       "      <td>Province</td>\n",
       "      <td>0.009799</td>\n",
       "    </tr>\n",
       "    <tr>\n",
       "      <th>15</th>\n",
       "      <td>BMI_12_17</td>\n",
       "      <td>0.008491</td>\n",
       "    </tr>\n",
       "    <tr>\n",
       "      <th>2</th>\n",
       "      <td>Health_region_ grouped</td>\n",
       "      <td>0.008170</td>\n",
       "    </tr>\n",
       "    <tr>\n",
       "      <th>42</th>\n",
       "      <td>Aboriginal_identity</td>\n",
       "      <td>0.008086</td>\n",
       "    </tr>\n",
       "    <tr>\n",
       "      <th>8</th>\n",
       "      <td>Edu_level</td>\n",
       "      <td>0.007981</td>\n",
       "    </tr>\n",
       "    <tr>\n",
       "      <th>45</th>\n",
       "      <td>Insurance_cover</td>\n",
       "      <td>0.007901</td>\n",
       "    </tr>\n",
       "    <tr>\n",
       "      <th>37</th>\n",
       "      <td>Total_physical_act_time</td>\n",
       "      <td>0.007861</td>\n",
       "    </tr>\n",
       "    <tr>\n",
       "      <th>38</th>\n",
       "      <td>Other_physical_act_time</td>\n",
       "      <td>0.007326</td>\n",
       "    </tr>\n",
       "    <tr>\n",
       "      <th>30</th>\n",
       "      <td>Fruit_veg_con</td>\n",
       "      <td>0.007019</td>\n",
       "    </tr>\n",
       "    <tr>\n",
       "      <th>26</th>\n",
       "      <td>Cardiovascular_con</td>\n",
       "      <td>0.006909</td>\n",
       "    </tr>\n",
       "    <tr>\n",
       "      <th>25</th>\n",
       "      <td>Musculoskeletal_con</td>\n",
       "      <td>0.006898</td>\n",
       "    </tr>\n",
       "    <tr>\n",
       "      <th>14</th>\n",
       "      <td>Weight_state</td>\n",
       "      <td>0.006718</td>\n",
       "    </tr>\n",
       "    <tr>\n",
       "      <th>39</th>\n",
       "      <td>Physical_vigorous_act_time</td>\n",
       "      <td>0.006307</td>\n",
       "    </tr>\n",
       "    <tr>\n",
       "      <th>24</th>\n",
       "      <td>Respiratory_chronic_con</td>\n",
       "      <td>0.005923</td>\n",
       "    </tr>\n",
       "    <tr>\n",
       "      <th>33</th>\n",
       "      <td>weekly_alcohol</td>\n",
       "      <td>0.005922</td>\n",
       "    </tr>\n",
       "    <tr>\n",
       "      <th>3</th>\n",
       "      <td>Gender</td>\n",
       "      <td>0.005862</td>\n",
       "    </tr>\n",
       "    <tr>\n",
       "      <th>20</th>\n",
       "      <td>Diabetic</td>\n",
       "      <td>0.005594</td>\n",
       "    </tr>\n",
       "    <tr>\n",
       "      <th>43</th>\n",
       "      <td>Birth_country</td>\n",
       "      <td>0.005490</td>\n",
       "    </tr>\n",
       "    <tr>\n",
       "      <th>17</th>\n",
       "      <td>Sleep_apnea</td>\n",
       "      <td>0.005459</td>\n",
       "    </tr>\n",
       "    <tr>\n",
       "      <th>32</th>\n",
       "      <td>Tobaco_use</td>\n",
       "      <td>0.004796</td>\n",
       "    </tr>\n",
       "    <tr>\n",
       "      <th>36</th>\n",
       "      <td>Total_active_time</td>\n",
       "      <td>0.004695</td>\n",
       "    </tr>\n",
       "    <tr>\n",
       "      <th>18</th>\n",
       "      <td>High_BP</td>\n",
       "      <td>0.004664</td>\n",
       "    </tr>\n",
       "    <tr>\n",
       "      <th>19</th>\n",
       "      <td>High_cholestrol</td>\n",
       "      <td>0.004363</td>\n",
       "    </tr>\n",
       "    <tr>\n",
       "      <th>48</th>\n",
       "      <td>Total_income</td>\n",
       "      <td>0.004263</td>\n",
       "    </tr>\n",
       "    <tr>\n",
       "      <th>4</th>\n",
       "      <td>Marital_status</td>\n",
       "      <td>0.004171</td>\n",
       "    </tr>\n",
       "    <tr>\n",
       "      <th>44</th>\n",
       "      <td>Immigrant</td>\n",
       "      <td>0.003776</td>\n",
       "    </tr>\n",
       "    <tr>\n",
       "      <th>35</th>\n",
       "      <td>Drug_use</td>\n",
       "      <td>0.003721</td>\n",
       "    </tr>\n",
       "    <tr>\n",
       "      <th>29</th>\n",
       "      <td>Act_improve_health</td>\n",
       "      <td>0.003471</td>\n",
       "    </tr>\n",
       "    <tr>\n",
       "      <th>16</th>\n",
       "      <td>BMI_18_above</td>\n",
       "      <td>0.002862</td>\n",
       "    </tr>\n",
       "    <tr>\n",
       "      <th>0</th>\n",
       "      <td>ADM_RNO1</td>\n",
       "      <td>0.001678</td>\n",
       "    </tr>\n",
       "  </tbody>\n",
       "</table>\n",
       "</div>"
      ],
      "text/plain": [
       "                       Feature  MI Score\n",
       "12                 Work_stress  0.124750\n",
       "10           Life_satisfaction  0.071693\n",
       "11         Mental_health_state  0.066109\n",
       "6                          Age  0.051208\n",
       "7          Worked_job_business  0.050194\n",
       "40                 Work_hours   0.046901\n",
       "41             working_status   0.044012\n",
       "22               Mood_disorder  0.029280\n",
       "47               Income_source  0.025910\n",
       "23            Anxiety_disorder  0.024591\n",
       "9             Gen_health_state  0.024398\n",
       "13             Sense_belonging  0.021330\n",
       "27         Health_utility_indx  0.019260\n",
       "31                      Smoked  0.014866\n",
       "46               Food_security  0.013562\n",
       "21            Fatigue_syndrome  0.012868\n",
       "28                 Pain_status  0.012289\n",
       "34               Cannabies_use  0.011807\n",
       "5                    Household  0.010128\n",
       "1                     Province  0.009799\n",
       "15                   BMI_12_17  0.008491\n",
       "2       Health_region_ grouped  0.008170\n",
       "42         Aboriginal_identity  0.008086\n",
       "8                    Edu_level  0.007981\n",
       "45             Insurance_cover  0.007901\n",
       "37     Total_physical_act_time  0.007861\n",
       "38     Other_physical_act_time  0.007326\n",
       "30               Fruit_veg_con  0.007019\n",
       "26          Cardiovascular_con  0.006909\n",
       "25         Musculoskeletal_con  0.006898\n",
       "14                Weight_state  0.006718\n",
       "39  Physical_vigorous_act_time  0.006307\n",
       "24     Respiratory_chronic_con  0.005923\n",
       "33              weekly_alcohol  0.005922\n",
       "3                       Gender  0.005862\n",
       "20                    Diabetic  0.005594\n",
       "43               Birth_country  0.005490\n",
       "17                 Sleep_apnea  0.005459\n",
       "32                  Tobaco_use  0.004796\n",
       "36           Total_active_time  0.004695\n",
       "18                     High_BP  0.004664\n",
       "19             High_cholestrol  0.004363\n",
       "48                Total_income  0.004263\n",
       "4               Marital_status  0.004171\n",
       "44                   Immigrant  0.003776\n",
       "35                    Drug_use  0.003721\n",
       "29          Act_improve_health  0.003471\n",
       "16                BMI_18_above  0.002862\n",
       "0                     ADM_RNO1  0.001678"
      ]
     },
     "execution_count": 12,
     "metadata": {},
     "output_type": "execute_result"
    }
   ],
   "source": [
    "# Hitung mutual information\n",
    "mi_scores = mutual_info_classif(X, y, discrete_features='auto', random_state=42)\n",
    "\n",
    "# Buat DataFrame untuk skor dan urutkan\n",
    "mi_df = pd.DataFrame({'Feature': X.columns, 'MI Score': mi_scores})\n",
    "mi_df = mi_df.sort_values(by='MI Score', ascending=False)\n",
    "\n",
    "# Tampilkan 20 fitur teratas untuk kemudian difilter yang cocok untuk pertanyaan\n",
    "mi_df"
   ]
  },
  {
   "cell_type": "markdown",
   "id": "e991249c",
   "metadata": {},
   "source": [
    "**Check Dataset Charateristics**"
   ]
  },
  {
   "cell_type": "code",
   "execution_count": 13,
   "id": "de8b1deb",
   "metadata": {},
   "outputs": [
    {
     "name": "stdout",
     "output_type": "stream",
     "text": [
      "<class 'pandas.core.frame.DataFrame'>\n",
      "Index: 108142 entries, 0 to 108251\n",
      "Data columns (total 50 columns):\n",
      " #   Column                      Non-Null Count   Dtype  \n",
      "---  ------                      --------------   -----  \n",
      " 0   ADM_RNO1                    108142 non-null  int64  \n",
      " 1   Province                    108142 non-null  int64  \n",
      " 2   Health_region_ grouped      108142 non-null  int64  \n",
      " 3   Gender                      108142 non-null  int64  \n",
      " 4   Marital_status              108142 non-null  int64  \n",
      " 5   Household                   108142 non-null  int64  \n",
      " 6   Age                         108142 non-null  int64  \n",
      " 7   Worked_job_business         108142 non-null  int64  \n",
      " 8   Edu_level                   108142 non-null  int64  \n",
      " 9   Gen_health_state            108142 non-null  int64  \n",
      " 10  Life_satisfaction           108142 non-null  int64  \n",
      " 11  Mental_health_state         108142 non-null  int64  \n",
      " 12  Stress_level                108142 non-null  int64  \n",
      " 13  Work_stress                 108142 non-null  int64  \n",
      " 14  Sense_belonging             108142 non-null  int64  \n",
      " 15  Weight_state                108142 non-null  int64  \n",
      " 16  BMI_12_17                   108142 non-null  int64  \n",
      " 17  BMI_18_above                108142 non-null  int64  \n",
      " 18  Sleep_apnea                 108142 non-null  int64  \n",
      " 19  High_BP                     108142 non-null  int64  \n",
      " 20  High_cholestrol             108142 non-null  int64  \n",
      " 21  Diabetic                    108142 non-null  int64  \n",
      " 22  Fatigue_syndrome            108142 non-null  int64  \n",
      " 23  Mood_disorder               108142 non-null  int64  \n",
      " 24  Anxiety_disorder            108142 non-null  int64  \n",
      " 25  Respiratory_chronic_con     108142 non-null  int64  \n",
      " 26  Musculoskeletal_con         108142 non-null  int64  \n",
      " 27  Cardiovascular_con          108142 non-null  int64  \n",
      " 28  Health_utility_indx         108142 non-null  int64  \n",
      " 29  Pain_status                 108142 non-null  int64  \n",
      " 30  Act_improve_health          108142 non-null  int64  \n",
      " 31  Fruit_veg_con               108142 non-null  float64\n",
      " 32  Smoked                      108142 non-null  float64\n",
      " 33  Tobaco_use                  108142 non-null  int64  \n",
      " 34  weekly_alcohol              108142 non-null  int64  \n",
      " 35  Cannabies_use               108142 non-null  int64  \n",
      " 36  Drug_use                    108142 non-null  int64  \n",
      " 37  Total_active_time           108142 non-null  int64  \n",
      " 38  Total_physical_act_time     108142 non-null  int64  \n",
      " 39  Other_physical_act_time     108142 non-null  int64  \n",
      " 40  Physical_vigorous_act_time  108142 non-null  int64  \n",
      " 41  Work_hours                  108142 non-null  int64  \n",
      " 42  working_status              108142 non-null  int64  \n",
      " 43  Aboriginal_identity         108142 non-null  int64  \n",
      " 44  Birth_country               108142 non-null  int64  \n",
      " 45  Immigrant                   108142 non-null  int64  \n",
      " 46  Insurance_cover             108142 non-null  int64  \n",
      " 47  Food_security               108142 non-null  int64  \n",
      " 48  Income_source               108142 non-null  int64  \n",
      " 49  Total_income                108142 non-null  int64  \n",
      "dtypes: float64(2), int64(48)\n",
      "memory usage: 42.1 MB\n"
     ]
    }
   ],
   "source": [
    "df.info()"
   ]
  },
  {
   "cell_type": "markdown",
   "id": "58da16b4",
   "metadata": {},
   "source": [
    "## Data Preparations"
   ]
  },
  {
   "cell_type": "markdown",
   "id": "e8ee8bdb",
   "metadata": {},
   "source": [
    "**Feature Selection based correlation and relevance**"
   ]
  },
  {
   "cell_type": "code",
   "execution_count": 84,
   "id": "d30492f3",
   "metadata": {},
   "outputs": [
    {
     "name": "stdout",
     "output_type": "stream",
     "text": [
      "\n",
      "📌 Kolom: Mental_health_state\n",
      "[3 5 2 1 4 9 7 8]\n",
      "\n",
      "📌 Kolom: Gen_health_state\n",
      "[3 2 5 1 4 7 8]\n",
      "\n",
      "📌 Kolom: Pain_status\n",
      "[2 1 9]\n",
      "\n",
      "📌 Kolom: Sense_belonging\n",
      "[2 3 1 4 9 7 8]\n",
      "\n",
      "📌 Kolom: Edu_level\n",
      "[3 2 1 9]\n",
      "\n",
      "📌 Kolom: Work_stress\n",
      "[2 6 4 3 7 1 5 9 8]\n",
      "\n",
      "📌 Kolom: Act_improve_health\n",
      "[6 2 1 9 7 8]\n",
      "\n",
      "📌 Kolom: Mood_disorder\n",
      "[2 1 7 8]\n",
      "\n",
      "📌 Kolom: Stress_level\n",
      "[2 3 4 1 5 7 8]\n"
     ]
    }
   ],
   "source": [
    "selected_features = [\n",
    "'Mental_health_state', \n",
    "'Gen_health_state',\n",
    "'Pain_status', \n",
    "'Sense_belonging', \n",
    "'Edu_level',\n",
    "'Work_stress', \n",
    "'Act_improve_health',\n",
    "'Mood_disorder',  \n",
    "'Stress_level'\n",
    "]\n",
    "# Menampilkan unique values dari setiap fitur\n",
    "for col in selected_features:\n",
    "    if col in df.columns:\n",
    "        print(f\"\\n📌 Kolom: {col}\")\n",
    "        print(df[col].unique())\n",
    "    else:\n",
    "        print(f\"\\n❌ Kolom '{col}' tidak ditemukan dalam DataFrame\")"
   ]
  },
  {
   "cell_type": "markdown",
   "id": "b9b19c0a",
   "metadata": {},
   "source": [
    "**Membersihkan nama nama kolom**"
   ]
  },
  {
   "cell_type": "code",
   "execution_count": 85,
   "id": "bbd3fe0f",
   "metadata": {},
   "outputs": [],
   "source": [
    "# Bersihkan spasi di nama kolom\n",
    "df.columns = df.columns.str.strip()\n",
    "selected_features = [col.strip() for col in selected_features]\n",
    "\n",
    "# Ambil hanya kolom yang dipilih\n",
    "df_filtered = df[selected_features]"
   ]
  },
  {
   "cell_type": "markdown",
   "id": "4b1152aa",
   "metadata": {},
   "source": [
    "**Remove Invalid Answer based on Dictionary**"
   ]
  },
  {
   "cell_type": "code",
   "execution_count": 86,
   "id": "da42279a",
   "metadata": {},
   "outputs": [
    {
     "name": "stdout",
     "output_type": "stream",
     "text": [
      "✅ Jumlah baris setelah penghapusan: 9379\n"
     ]
    }
   ],
   "source": [
    "# Daftar nilai yang harus dihapus untuk setiap kolom\n",
    "remove_conditions = {\n",
    "    'Edu_level': [9],\n",
    "    'Gen_health_state': [7, 8],\n",
    "    'Mental_health_state': [7, 8, 9],\n",
    "    'Work_stress': [6, 7, 8, 9],\n",
    "    'Sense_belonging': [7, 8, 9],\n",
    "    'Pain_status': [9],\n",
    "    'Act_improve_health': [6, 7, 8],\n",
    "    'Mood_disorder':[7, 8],\n",
    "    'Stress_level': [7, 8]\n",
    "}\n",
    "\n",
    "# Salin DataFrame agar data asli tidak berubah (opsional)\n",
    "df_cleaned = df_filtered.copy()\n",
    "\n",
    "# Iterasi untuk setiap kondisi penghapusan\n",
    "for col, invalid_values in remove_conditions.items():\n",
    "    if col in df_cleaned.columns:\n",
    "        df_cleaned = df_cleaned[~df_cleaned[col].isin(invalid_values)]\n",
    "    else:\n",
    "        print(f\"❌ Kolom '{col}' tidak ditemukan dalam DataFrame\")\n",
    "\n",
    "# Menampilkan hasil setelah filter\n",
    "print(\"✅ Jumlah baris setelah penghapusan:\", len(df_cleaned))"
   ]
  },
  {
   "cell_type": "markdown",
   "id": "e8a137af",
   "metadata": {},
   "source": [
    "**Checking Data and Column**"
   ]
  },
  {
   "cell_type": "code",
   "execution_count": 87,
   "id": "4d7e4264",
   "metadata": {},
   "outputs": [
    {
     "name": "stdout",
     "output_type": "stream",
     "text": [
      "<class 'pandas.core.frame.DataFrame'>\n",
      "Index: 9379 entries, 12 to 108245\n",
      "Data columns (total 9 columns):\n",
      " #   Column               Non-Null Count  Dtype\n",
      "---  ------               --------------  -----\n",
      " 0   Mental_health_state  9379 non-null   int64\n",
      " 1   Gen_health_state     9379 non-null   int64\n",
      " 2   Pain_status          9379 non-null   int64\n",
      " 3   Sense_belonging      9379 non-null   int64\n",
      " 4   Edu_level            9379 non-null   int64\n",
      " 5   Work_stress          9379 non-null   int64\n",
      " 6   Act_improve_health   9379 non-null   int64\n",
      " 7   Mood_disorder        9379 non-null   int64\n",
      " 8   Stress_level         9379 non-null   int64\n",
      "dtypes: int64(9)\n",
      "memory usage: 732.7 KB\n"
     ]
    }
   ],
   "source": [
    "df_cleaned.info()"
   ]
  },
  {
   "cell_type": "markdown",
   "id": "40732661",
   "metadata": {},
   "source": [
    "**Seperate Feature and Label**"
   ]
  },
  {
   "cell_type": "code",
   "execution_count": 88,
   "id": "8c2a446e",
   "metadata": {},
   "outputs": [],
   "source": [
    "X = df_cleaned.drop('Stress_level', axis=1)\n",
    "y = df_cleaned['Stress_level']\n",
    "selected_features = X.columns.tolist()"
   ]
  },
  {
   "cell_type": "markdown",
   "id": "13c71ff8",
   "metadata": {},
   "source": [
    "**Normalize Numeric Values**"
   ]
  },
  {
   "cell_type": "code",
   "execution_count": 89,
   "id": "ee850e8e",
   "metadata": {},
   "outputs": [],
   "source": [
    "# Normalisasi fitur numerik\n",
    "scaler = StandardScaler()\n",
    "X_scaled = scaler.fit_transform(X)"
   ]
  },
  {
   "cell_type": "markdown",
   "id": "50dd204a",
   "metadata": {},
   "source": [
    "**Split Train Test with 80:20 Ratio**"
   ]
  },
  {
   "cell_type": "code",
   "execution_count": 90,
   "id": "58e96f78",
   "metadata": {},
   "outputs": [],
   "source": [
    "# Split data\n",
    "X_train, X_test, y_train, y_test = train_test_split(X_scaled, y, test_size=0.2, random_state=42, stratify=y)"
   ]
  },
  {
   "cell_type": "markdown",
   "id": "3a72e21d",
   "metadata": {},
   "source": [
    "**Train Model**"
   ]
  },
  {
   "cell_type": "code",
   "execution_count": 91,
   "id": "ddf46ee7",
   "metadata": {},
   "outputs": [],
   "source": [
    "# Random Forest Model\n",
    "model = RandomForestClassifier(n_estimators=140, max_depth=7, random_state=42)\n",
    "model.fit(X_train, y_train)\n",
    "y_pred = model.predict(X_test)"
   ]
  },
  {
   "cell_type": "markdown",
   "id": "dd13358a",
   "metadata": {},
   "source": [
    "**Model Evaluation**"
   ]
  },
  {
   "cell_type": "code",
   "execution_count": 92,
   "id": "9dfe9924",
   "metadata": {},
   "outputs": [
    {
     "name": "stdout",
     "output_type": "stream",
     "text": [
      "Accuracy: 0.5714285714285714\n",
      "\n",
      "Classification Report:\n",
      "              precision    recall  f1-score   support\n",
      "\n",
      "           1       0.57      0.15      0.24       170\n",
      "           2       0.50      0.33      0.40       362\n",
      "           3       0.59      0.72      0.65       801\n",
      "           4       0.57      0.72      0.63       489\n",
      "           5       0.33      0.02      0.04        54\n",
      "\n",
      "    accuracy                           0.57      1876\n",
      "   macro avg       0.51      0.39      0.39      1876\n",
      "weighted avg       0.56      0.57      0.54      1876\n",
      "\n"
     ]
    },
    {
     "data": {
      "image/png": "[encoded data removed]",
      "text/plain": [
       "<Figure size 800x600 with 2 Axes>"
      ]
     },
     "metadata": {},
     "output_type": "display_data"
    }
   ],
   "source": [
    "print(\"Accuracy:\", accuracy_score(y_test, y_pred))\n",
    "print(\"\\nClassification Report:\")\n",
    "print(classification_report(y_test, y_pred))\n",
    "\n",
    "conf_matrix = confusion_matrix(y_test, y_pred)\n",
    "\n",
    "plt.figure(figsize=(8, 6))\n",
    "sns.heatmap(conf_matrix, annot=True, fmt=\"d\", cmap=\"Blues\")\n",
    "plt.title(\"Confusion Matrix\")\n",
    "plt.xlabel(\"Predicted\")\n",
    "plt.ylabel(\"Actual\")\n",
    "plt.tight_layout()\n",
    "plt.show()"
   ]
  },
  {
   "cell_type": "markdown",
   "id": "625b9828",
   "metadata": {},
   "source": [
    "**Feature Importances of Model**"
   ]
  },
  {
   "cell_type": "code",
   "execution_count": 93,
   "id": "f7471739",
   "metadata": {},
   "outputs": [
    {
     "name": "stderr",
     "output_type": "stream",
     "text": [
      "C:\\Users\\itzir\\AppData\\Local\\Temp\\ipykernel_6256\\3298974315.py:10: FutureWarning: \n",
      "\n",
      "Passing `palette` without assigning `hue` is deprecated and will be removed in v0.14.0. Assign the `y` variable to `hue` and set `legend=False` for the same effect.\n",
      "\n",
      "  sns.barplot(x='Importance', y='Feature', data=feature_importance_df, palette='viridis')\n"
     ]
    },
    {
     "data": {
      "image/png": "[encoded data removed]",
      "text/plain": [
       "<Figure size 1000x600 with 1 Axes>"
      ]
     },
     "metadata": {},
     "output_type": "display_data"
    }
   ],
   "source": [
    "importances = model.feature_importances_\n",
    "feature_names = X.columns  \n",
    "\n",
    "feature_importance_df = pd.DataFrame({\n",
    "    'Feature': feature_names,\n",
    "    'Importance': importances\n",
    "}).sort_values(by='Importance', ascending=False)\n",
    "\n",
    "plt.figure(figsize=(10, 6))\n",
    "sns.barplot(x='Importance', y='Feature', data=feature_importance_df, palette='viridis')\n",
    "plt.title('Feature Importances - Random Forest')\n",
    "plt.tight_layout()\n",
    "plt.show()"
   ]
  },
  {
   "cell_type": "code",
   "execution_count": null,
   "id": "b48ed1d6",
   "metadata": {},
   "outputs": [
    {
     "data": {
      "text/plain": [
       "['health_model.pkl']"
      ]
     },
     "execution_count": 94,
     "metadata": {},
     "output_type": "execute_result"
    }
   ],
   "source": [
    "joblib.dump({\n",
    "    'model': model,\n",
    "    'scaler': scaler,\n",
    "    'features': selected_features\n",
    "}, 'rf_health_model.pkl')"
   ]
  },
  {
   "cell_type": "code",
   "execution_count": 95,
   "id": "81ceae48",
   "metadata": {},
   "outputs": [],
   "source": [
    "model_data = joblib.load('health_model.pkl')\n",
    "model = model_data['model']\n",
    "scaler = model_data['scaler']\n",
    "selected_features = model_data['features']"
   ]
  },
  {
   "cell_type": "code",
   "execution_count": null,
   "id": "82de7022",
   "metadata": {},
   "outputs": [],
   "source": [
    "test_data = pd.DataFrame([\n",
    "    {\n",
    "        'Mental_health_state': 2,\n",
    "        'Gen_health_state': 3,\n",
    "        'Pain_status': 1,\n",
    "        'Sense_belonging': 4,\n",
    "        'Edu_level': 2,\n",
    "        'Work_stress': 3,\n",
    "        'Act_improve_health': 1,\n",
    "        'Mood_disorder': 1\n",
    "    },\n",
    "    {\n",
    "        'Mental_health_state': 4,\n",
    "        'Gen_health_state': 2,\n",
    "        'Pain_status': 3,\n",
    "        'Sense_belonging': 2,\n",
    "        'Edu_level': 3,\n",
    "        'Work_stress': 4,\n",
    "        'Act_improve_health': 0,\n",
    "        'Mood_disorder': 1\n",
    "    },\n",
    "    {\n",
    "        'Mental_health_state': 1,\n",
    "        'Gen_health_state': 4,\n",
    "        'Pain_status': 1,\n",
    "        'Sense_belonging': 5,\n",
    "        'Edu_level': 1,\n",
    "        'Work_stress': 2,\n",
    "        'Act_improve_health': 1,\n",
    "        'Mood_disorder': 1\n",
    "    }\n",
    "])"
   ]
  },
  {
   "cell_type": "code",
   "execution_count": 97,
   "id": "8b9ad1a8",
   "metadata": {},
   "outputs": [
    {
     "name": "stdout",
     "output_type": "stream",
     "text": [
      "Data ke-1: Prediksi Stress Level = 3, Probabilitas = {1: 0.09629451344188271, 2: 0.14102693502069488, 3: 0.43498370848035334, 4: 0.30560439647212545, 5: 0.022090446584943583}\n",
      "Data ke-2: Prediksi Stress Level = 4, Probabilitas = {1: 0.008710834484386143, 2: 0.030122150999655137, 3: 0.2690168830187251, 4: 0.6250437789470764, 5: 0.06710635255015718}\n",
      "Data ke-3: Prediksi Stress Level = 1, Probabilitas = {1: 0.3033543994219503, 2: 0.19279110399468058, 3: 0.23468462122334902, 4: 0.2591222043946059, 5: 0.010047670965414267}\n"
     ]
    },
    {
     "name": "stderr",
     "output_type": "stream",
     "text": [
      "d:\\Miniconda\\envs\\main-ds\\lib\\site-packages\\sklearn\\base.py:486: UserWarning: X has feature names, but RandomForestClassifier was fitted without feature names\n",
      "  warnings.warn(\n",
      "d:\\Miniconda\\envs\\main-ds\\lib\\site-packages\\sklearn\\base.py:486: UserWarning: X has feature names, but RandomForestClassifier was fitted without feature names\n",
      "  warnings.warn(\n"
     ]
    }
   ],
   "source": [
    "# 3. Ambil hanya kolom yang diperlukan\n",
    "X = test_data[selected_features]\n",
    "\n",
    "# 4. Scaling, lalu konversi kembali ke DataFrame agar nama kolom tetap ada\n",
    "X_scaled_array = scaler.transform(X)\n",
    "X_scaled = pd.DataFrame(X_scaled_array, columns=selected_features)\n",
    "\n",
    "# 5. Prediksi label stress level\n",
    "predicted_labels = model.predict(X_scaled)\n",
    "\n",
    "# 6. (Opsional) Probabilitas setiap kelas\n",
    "probs = model.predict_proba(X_scaled)\n",
    "\n",
    "# 7. Output hasil prediksi\n",
    "for i, label in enumerate(predicted_labels):\n",
    "    print(f\"Data ke-{i+1}: Prediksi Stress Level = {label}, Probabilitas = {dict(zip(model.classes_, probs[i]))}\")"
   ]
  }
 ],
 "metadata": {
  "kernelspec": {
   "display_name": "main-ds",
   "language": "python",
   "name": "python3"
  },
  "language_info": {
   "codemirror_mode": {
    "name": "ipython",
    "version": 3
   },
   "file_extension": ".py",
   "mimetype": "text/x-python",
   "name": "python",
   "nbconvert_exporter": "python",
   "pygments_lexer": "ipython3",
   "version": "3.9.20"
  }
 },
 "nbformat": 4,
 "nbformat_minor": 5
}
